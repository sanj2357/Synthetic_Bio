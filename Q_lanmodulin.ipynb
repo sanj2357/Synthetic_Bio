{
 "cells": [
  {
   "cell_type": "markdown",
   "metadata": {},
   "source": [
    "\n",
    "##Section 1: Imports and Parameters##"
   ]
  },
  {
   "cell_type": "code",
   "execution_count": 1,
   "metadata": {},
   "outputs": [],
   "source": [
    "import numpy as np\n",
    "import pennylane as qml\n",
    "import random\n",
    "\n",
    "# Lanmodulin target sequence\n",
    "target_sequence = \"MDRPRVIVGAAGDQVSDETLQKRYDGVSLVTVEGKEDGRIVQGLQKRDQGNLLQATLDLGKEGLRVTVEFGKEDEMLIGLKHRDQGNLLQVSLELGKKH\"\n",
    "\n",
    "# Parameters for sequence generation\n",
    "sequence_length = len(target_sequence)  # Length of generated sequences\n",
    "population_size = 50  # Number of sequences in the population\n",
    "num_generations = 100  # Number of generations to evolve\n",
    "mutation_rate = 0.3  # Probability of mutating a residue\n",
    "alphabet = \"ACDEFGHIKLMNPQRSTVWY\"  # All possible amino acids\n"
   ]
  },
  {
   "cell_type": "markdown",
   "metadata": {},
   "source": [
    "Grouping Function for Sequence Reduction"
   ]
  },
  {
   "cell_type": "code",
   "execution_count": 2,
   "metadata": {},
   "outputs": [],
   "source": [
    "def group_sequence(sequence, group_size):\n",
    "    \"\"\"\n",
    "    Group residues into blocks to reduce qubit requirements.\n",
    "    \"\"\"\n",
    "    return [sequence[i:i + group_size] for i in range(0, len(sequence), group_size)]\n"
   ]
  },
  {
   "cell_type": "markdown",
   "metadata": {},
   "source": [
    "### Quantum Fitness Function"
   ]
  },
  {
   "cell_type": "code",
   "execution_count": 4,
   "metadata": {},
   "outputs": [],
   "source": [
    "def quantum_fitness_function(sequence, target):\n",
    "    \"\"\"\n",
    "    Compute quantum similarity between a sequence and the target.\n",
    "    \"\"\"\n",
    "    group_size = 5  # Group size to reduce qubits\n",
    "    grouped_sequence = group_sequence(sequence, group_size)\n",
    "    grouped_target = group_sequence(target, group_size)\n",
    "\n",
    "    num_qubits = len(grouped_sequence)\n",
    "    dev = qml.device(\"default.qubit\", wires=num_qubits)\n",
    "\n",
    "    @qml.qnode(dev)\n",
    "    def overlap_circuit(params1, params2):\n",
    "        for i in range(len(params1)):\n",
    "            qml.RX(params1[i], wires=i)\n",
    "        qml.adjoint(lambda: [qml.RX(params2[j], wires=j) for j in range(len(params2))])()\n",
    "        return qml.probs(wires=range(num_qubits))\n",
    "\n",
    "    # Encode the sequences as rotation parameters\n",
    "    params1 = [np.pi / 2 if \"D\" in block or \"E\" in block else 0 for block in grouped_sequence]\n",
    "    params2 = [np.pi / 2 if \"D\" in block or \"E\" in block else 0 for block in grouped_target]\n",
    "\n",
    "    probabilities = overlap_circuit(params1, params2)\n",
    "\n",
    "    # Compute similarity, normalized to a positive range\n",
    "    similarity = 1.0 - np.linalg.norm(probabilities - np.ones(len(probabilities)) / len(probabilities))\n",
    "    return max(similarity, 0)  # Ensure non-negative fitness\n"
   ]
  },
  {
   "cell_type": "markdown",
   "metadata": {},
   "source": [
    "### Genetic Algorithm "
   ]
  },
  {
   "cell_type": "code",
   "execution_count": 5,
   "metadata": {},
   "outputs": [],
   "source": [
    "def genetic_algorithm(target, population_size, num_generations, mutation_rate):\n",
    "    \"\"\"\n",
    "    Run a genetic algorithm to evolve sequences toward the target.\n",
    "    \"\"\"\n",
    "    population = [\"\".join(random.choices(alphabet, k=len(target))) for _ in range(population_size)]\n",
    "    best_sequence = None\n",
    "    best_fitness = -1\n",
    "    no_improvement_generations = 0\n",
    "    patience = 10  # Stop after 10 generations without improvement\n",
    "\n",
    "    for generation in range(num_generations):\n",
    "        fitness_scores = [quantum_fitness_function(seq, target) for seq in population]\n",
    "\n",
    "        # Debugging: Log all fitness scores\n",
    "        print(f\"Generation {generation + 1}: Fitness Scores = {fitness_scores}\")\n",
    "        print(f\"Sum of Fitness Scores: {sum(fitness_scores)}\")\n",
    "\n",
    "        #Handle invalid fitness scores\n",
    "        if sum(fitness_scores) <= 0:\n",
    "            fitness_scores = [1.0] * len(fitness_scores)  # Assign equal fitness to all sequences\n",
    "            print(\"Fallback: Assigning uniform fitness scores to all sequences.\")\n",
    "\n",
    "        # Check for invalid fitness scores\n",
    "        if all(score <= 0 for score in fitness_scores):\n",
    "            raise ValueError(\"All fitness scores are zero or negative. Cannot proceed with selection.\")\n",
    "\n",
    "        max_fitness = max(fitness_scores)\n",
    "        if max_fitness > best_fitness:\n",
    "            best_fitness = max_fitness\n",
    "            best_sequence = population[fitness_scores.index(max_fitness)]\n",
    "            no_improvement_generations = 0\n",
    "        else:\n",
    "            no_improvement_generations += 1\n",
    "\n",
    "        if no_improvement_generations >= patience:\n",
    "            print(\"Early stopping: No improvement for 10 generations.\")\n",
    "            break\n",
    "\n",
    "        # Parent selection with fallback to uniform selection\n",
    "        if sum(fitness_scores) == 0:\n",
    "            selected_parents = random.choices(population, k=population_size)\n",
    "        else:\n",
    "            selected_parents = random.choices(population, weights=fitness_scores, k=population_size)\n",
    "\n",
    "        # Generate new population with crossover and mutation\n",
    "        new_population = []\n",
    "        for i in range(0, population_size, 2):\n",
    "            parent1, parent2 = selected_parents[i], selected_parents[(i + 1) % population_size]\n",
    "            split = random.randint(1, len(parent1) - 1)\n",
    "            child = parent1[:split] + parent2[split:]\n",
    "\n",
    "            # Mutation\n",
    "            child = list(child)\n",
    "            for j in range(len(child)):\n",
    "                if random.random() < mutation_rate:\n",
    "                    child[j] = random.choice(alphabet)\n",
    "            new_population.append(\"\".join(child))\n",
    "\n",
    "        population = new_population\n",
    "        print(f\"Generation {generation + 1}: Best Fitness = {best_fitness}\")\n",
    "        print(f\"Best Sequence: {best_sequence}\")\n",
    "\n",
    "    return best_sequence, best_fitness\n"
   ]
  },
  {
   "cell_type": "code",
   "execution_count": 6,
   "metadata": {},
   "outputs": [
    {
     "name": "stdout",
     "output_type": "stream",
     "text": [
      "Generation 1: Fitness Scores = [0.9116170473129371, 0.9844055474387976, 0.9558166170864703, 0.9558166170864703, 0.9779245028213724, 0.9779245028213724, 0.9889946995414213, 0.9687652625161729, 0.9687652625161729, 0.9375076298602494, 0.9844055474387976, 0.9687652625161729, 0.9779245028213724, 0.9844055474387976, 0.9687652625161729, 0.9375076298602494, 0.9889946995414213, 0.9687652625161729, 0.9844055474387976, 0.9116170473129371, 0.9844055474387976, 0.9687652625161729, 0.9558166170864703, 0.9889946995414213, 0.9889946995414213, 0.9687652625161729, 0.9889946995414213, 0.9889946995414213, 0.9687652625161729, 0.9687652625161729, 0.9558166170864703, 0.9375076298602494, 0.9779245028213724, 0.9844055474387976, 0.9844055474387976, 0.9687652625161729, 0.9116170473129371, 0.9558166170864703, 0.9558166170864703, 0.9945627301144238, 0.9922487754558654, 0.9558166170864703, 0.9889946995414213, 0.9889946995414213, 0.9375076298602494, 0.9844055474387976, 0.9558166170864703, 0.9779245028213724, 0.8750038147554751, 0.9116170473129371]\n",
      "Sum of Fitness Scores: 48.26932408082061\n",
      "Generation 1: Best Fitness = 0.9945627301144238\n",
      "Best Sequence: LVVVWGMSVEEPWDIAILRLFMTRPQSETAPVACPWMYLAENDEWCKFVYDYDGLNMNDIVWFPYDLNMEASFKSFMTLPQLYISICNLCKWFGNETYR\n",
      "Generation 2: Fitness Scores = [0.9687652625161729, 0.9922487754558654, 0.9922487754558654, 0.9779245028213724, 0.9687652625161729, 0.9844055474387976, 0.9687652625161729, 0.9844055474387976, 0.9844055474387976, 0.9558166170864703, 0.8750038147554751, 0.9844055474387976, 0.9889946995414213, 0.9779245028213724, 0.9889946995414213, 0.9844055474387976, 0.9558166170864703, 0.9945627301144238, 0.9922487754558654, 0.9558166170864703, 0.9945627301144238, 0.9687652625161729, 0.9889946995414213, 0.9844055474387976, 0.9779245028213724]\n",
      "Sum of Fitness Scores: 24.390577394397187\n",
      "Generation 2: Best Fitness = 0.9945627301144238\n",
      "Best Sequence: LVVVWGMSVEEPWDIAILRLFMTRPQSETAPVACPWMYLAENDEWCKFVYDYDGLNMNDIVWFPYDLNMEASFKSFMTLPQLYISICNLCKWFGNETYR\n",
      "Generation 3: Fitness Scores = [0.9375076298602494, 0.9375076298602494, 0.9945627301144238, 0.9889946995414213, 0.9889946995414213, 0.9116170473129371, 0.9889946995414213, 0.9779245028213724, 0.9375076298602494, 0.9779245028213724, 0.9779245028213724, 0.9779245028213724, 0.9779245028213724, 0.9779245028213724, 0.9779245028213724, 0.9962177897009693, 0.9779245028213724, 0.9922487754558654, 0.9945627301144238, 0.9375076298602494, 0.9779245028213724, 0.9558166170864703, 0.9375076298602494, 0.9687652625161729, 0.9922487754558654]\n",
      "Sum of Fitness Scores: 24.26188250107499\n",
      "Generation 3: Best Fitness = 0.9962177897009693\n",
      "Best Sequence: FALGAGRLDAHLGGGCKAALFCMLVCGWCVQLVGDPSHTQERMDLFVQAQYRAGVKHRISGLWWKQTQMHTAGRKREDRYQLWTSLEGCPLRPHRFGSP\n",
      "Generation 4: Fitness Scores = [0.9779245028213724, 0.9779245028213724, 0.9922487754558654, 0.9779245028213724, 0.9962177897009693, 0.9779245028213724, 0.9116170473129371, 0.9558166170864703, 0.9779245028213724, 0.9558166170864703, 0.9844055474387976, 0.9844055474387976, 0.9844055474387976, 0.9558166170864703, 0.9558166170864703, 0.9779245028213724, 0.9844055474387976, 0.9779245028213724, 0.9687652625161729, 0.9779245028213724, 0.9922487754558654, 0.9779245028213724, 0.9687652625161729, 0.9779245028213724, 0.9687652625161729]\n",
      "Sum of Fitness Scores: 24.338761861788953\n",
      "Generation 4: Best Fitness = 0.9962177897009693\n",
      "Best Sequence: FALGAGRLDAHLGGGCKAALFCMLVCGWCVQLVGDPSHTQERMDLFVQAQYRAGVKHRISGLWWKQTQMHTAGRKREDRYQLWTSLEGCPLRPHRFGSP\n",
      "Generation 5: Fitness Scores = [0.9375076298602494, 0.9687652625161729, 0.9779245028213724, 0.9844055474387976, 0.9779245028213724, 0.9687652625161729, 0.9922487754558654, 0.9687652625161729, 0.9779245028213724, 0.9779245028213724, 0.9844055474387976, 0.9844055474387976, 0.9844055474387976, 0.9687652625161729, 0.9687652625161729, 0.9922487754558654, 0.9889946995414213, 0.9844055474387976, 0.9779245028213724, 0.9779245028213724, 0.9889946995414213, 0.9687652625161729, 0.9779245028213724, 0.9779245028213724, 0.9945627301144238]\n",
      "Sum of Fitness Scores: 24.452572644831253\n",
      "Generation 5: Best Fitness = 0.9962177897009693\n",
      "Best Sequence: FALGAGRLDAHLGGGCKAALFCMLVCGWCVQLVGDPSHTQERMDLFVQAQYRAGVKHRISGLWWKQTQMHTAGRKREDRYQLWTSLEGCPLRPHRFGSP\n",
      "Generation 6: Fitness Scores = [0.9558166170864703, 0.9116170473129371, 0.9844055474387976, 0.9558166170864703, 0.9779245028213724, 0.9558166170864703, 0.9962177897009693, 0.9687652625161729, 0.9922487754558654, 0.9922487754558654, 0.9844055474387976, 0.9889946995414213, 0.9375076298602494, 0.9116170473129371, 0.9375076298602494, 0.9779245028213724, 0.9779245028213724, 0.9889946995414213, 0.9558166170864703, 0.9687652625161729, 0.9844055474387976, 0.9687652625161729, 0.9889946995414213, 0.9116170473129371, 0.9779245028213724]\n",
      "Sum of Fitness Scores: 24.152042750392557\n",
      "Generation 6: Best Fitness = 0.9962177897009693\n",
      "Best Sequence: FALGAGRLDAHLGGGCKAALFCMLVCGWCVQLVGDPSHTQERMDLFVQAQYRAGVKHRISGLWWKQTQMHTAGRKREDRYQLWTSLEGCPLRPHRFGSP\n",
      "Generation 7: Fitness Scores = [0.9375076298602494, 0.9687652625161729, 0.9779245028213724, 0.9687652625161729, 0.9945627301144238, 0.9687652625161729, 0.9889946995414213, 0.9558166170864703, 0.9779245028213724, 0.9779245028213724, 0.9962177897009693, 0.9889946995414213, 0.9375076298602494, 0.9844055474387976, 0.9779245028213724, 0.9844055474387976, 0.9687652625161729, 0.9687652625161729, 0.9558166170864703, 0.9779245028213724, 0.9922487754558654, 0.9558166170864703, 0.9779245028213724, 0.9945627301144238, 0.9922487754558654]\n",
      "Sum of Fitness Scores: 24.370479735290996\n",
      "Generation 7: Best Fitness = 0.9962177897009693\n",
      "Best Sequence: FALGAGRLDAHLGGGCKAALFCMLVCGWCVQLVGDPSHTQERMDLFVQAQYRAGVKHRISGLWWKQTQMHTAGRKREDRYQLWTSLEGCPLRPHRFGSP\n",
      "Generation 8: Fitness Scores = [0.9779245028213724, 0.9779245028213724, 0.9945627301144238, 0.9558166170864703, 0.9844055474387976, 0.9889946995414213, 0.9922487754558654, 0.9844055474387976, 0.8750038147554751, 0.9779245028213724, 0.9375076298602494, 0.9844055474387976, 0.9558166170864703, 0.9889946995414213, 0.9558166170864703, 0.9922487754558654, 0.9844055474387976, 0.9844055474387976, 0.9922487754558654, 0.9844055474387976, 0.9889946995414213, 0.9116170473129371, 0.9687652625161729, 0.9687652625161729, 0.9558166170864703]\n",
      "Sum of Fitness Scores: 24.263425433510072\n",
      "Generation 8: Best Fitness = 0.9962177897009693\n",
      "Best Sequence: FALGAGRLDAHLGGGCKAALFCMLVCGWCVQLVGDPSHTQERMDLFVQAQYRAGVKHRISGLWWKQTQMHTAGRKREDRYQLWTSLEGCPLRPHRFGSP\n",
      "Generation 9: Fitness Scores = [0.9844055474387976, 0.9844055474387976, 0.9844055474387976, 0.9687652625161729, 0.9889946995414213, 0.9922487754558654, 0.9558166170864703, 0.9779245028213724, 0.9558166170864703, 0.9889946995414213, 0.9687652625161729, 0.9558166170864703, 0.9558166170864703, 0.9889946995414213, 0.9558166170864703, 0.9558166170864703, 0.9779245028213724, 0.9687652625161729, 0.9844055474387976, 0.9945627301144238, 0.9779245028213724, 0.9922487754558654, 0.9844055474387976, 0.9558166170864703, 0.9889946995414213]\n",
      "Sum of Fitness Scores: 24.387852432003758\n",
      "Generation 9: Best Fitness = 0.9962177897009693\n",
      "Best Sequence: FALGAGRLDAHLGGGCKAALFCMLVCGWCVQLVGDPSHTQERMDLFVQAQYRAGVKHRISGLWWKQTQMHTAGRKREDRYQLWTSLEGCPLRPHRFGSP\n",
      "Generation 10: Fitness Scores = [0.9889946995414213, 0.9922487754558654, 0.9922487754558654, 0.9558166170864703, 0.9779245028213724, 0.9779245028213724, 0.9558166170864703, 0.9779245028213724, 0.9922487754558654, 0.9889946995414213, 0.9687652625161729, 0.9844055474387976, 0.9889946995414213, 0.9116170473129371, 0.9779245028213724, 0.9558166170864703, 0.9889946995414213, 0.9558166170864703, 0.9779245028213724, 0.9922487754558654, 0.9558166170864703, 0.9889946995414213, 0.9558166170864703, 0.9375076298602494, 0.9844055474387976]\n",
      "Sum of Fitness Scores: 24.325191850723208\n",
      "Generation 10: Best Fitness = 0.9962177897009693\n",
      "Best Sequence: FALGAGRLDAHLGGGCKAALFCMLVCGWCVQLVGDPSHTQERMDLFVQAQYRAGVKHRISGLWWKQTQMHTAGRKREDRYQLWTSLEGCPLRPHRFGSP\n",
      "Generation 11: Fitness Scores = [0.9779245028213724, 0.9779245028213724, 0.9844055474387976, 0.9375076298602494, 0.9844055474387976, 0.9779245028213724, 0.9779245028213724, 0.8232260021222477, 0.9558166170864703, 0.9889946995414213, 0.9687652625161729, 0.9687652625161729, 0.9889946995414213, 0.9945627301144238, 0.9844055474387976, 0.9687652625161729, 0.9844055474387976, 0.9558166170864703, 0.9687652625161729, 0.9687652625161729, 0.9687652625161729, 0.9558166170864703, 0.9779245028213724, 0.9116170473129371, 0.9558166170864703]\n",
      "Sum of Fitness Scores: 24.10800555579767\n",
      "Generation 11: Best Fitness = 0.9962177897009693\n",
      "Best Sequence: FALGAGRLDAHLGGGCKAALFCMLVCGWCVQLVGDPSHTQERMDLFVQAQYRAGVKHRISGLWWKQTQMHTAGRKREDRYQLWTSLEGCPLRPHRFGSP\n",
      "Generation 12: Fitness Scores = [0.9558166170864703, 0.9889946995414213, 0.9889946995414213, 0.9889946995414213, 0.9558166170864703, 0.9945627301144238, 0.9844055474387976, 0.9779245028213724, 0.9779245028213724, 0.9116170473129371, 0.9779245028213724, 0.9844055474387976, 0.9844055474387976, 0.9844055474387976, 0.9687652625161729, 0.9844055474387976, 0.9922487754558654, 0.9779245028213724, 0.9779245028213724, 0.9687652625161729, 0.9375076298602494, 0.9375076298602494, 0.9889946995414213, 0.9779245028213724, 0.9779245028213724]\n",
      "Sum of Fitness Scores: 24.346085626918295\n",
      "Generation 12: Best Fitness = 0.9962177897009693\n",
      "Best Sequence: FALGAGRLDAHLGGGCKAALFCMLVCGWCVQLVGDPSHTQERMDLFVQAQYRAGVKHRISGLWWKQTQMHTAGRKREDRYQLWTSLEGCPLRPHRFGSP\n",
      "Generation 13: Fitness Scores = [0.9844055474387976, 0.9558166170864703, 0.9844055474387976, 0.9687652625161729, 0.9687652625161729, 0.9779245028213724, 0.9687652625161729, 0.9922487754558654, 0.9558166170864703, 0.9558166170864703, 0.9844055474387976, 0.9844055474387976, 0.9779245028213724, 0.9844055474387976, 0.9922487754558654, 0.9779245028213724, 0.9687652625161729, 0.9922487754558654, 0.8232260021222477, 0.9962177897009693, 0.9558166170864703, 0.9687652625161729, 0.9844055474387976, 0.9844055474387976, 0.9779245028213724]\n",
      "Sum of Fitness Scores: 24.26581974247463\n",
      "Early stopping: No improvement for 10 generations.\n",
      "\n",
      "Final Best Sequence:\n",
      "FALGAGRLDAHLGGGCKAALFCMLVCGWCVQLVGDPSHTQERMDLFVQAQYRAGVKHRISGLWWKQTQMHTAGRKREDRYQLWTSLEGCPLRPHRFGSP\n",
      "Fitness: 0.9962177897009693\n"
     ]
    }
   ],
   "source": [
    "# Run the genetic algorithm\n",
    "best_sequence, best_fitness = genetic_algorithm(\n",
    "    target_sequence, population_size, num_generations, mutation_rate\n",
    ")\n",
    "\n",
    "print(\"\\nFinal Best Sequence:\")\n",
    "print(best_sequence)\n",
    "print(\"Fitness:\", best_fitness)\n"
   ]
  }
 ],
 "metadata": {
  "kernelspec": {
   "display_name": "py311",
   "language": "python",
   "name": "python3"
  },
  "language_info": {
   "codemirror_mode": {
    "name": "ipython",
    "version": 3
   },
   "file_extension": ".py",
   "mimetype": "text/x-python",
   "name": "python",
   "nbconvert_exporter": "python",
   "pygments_lexer": "ipython3",
   "version": "3.11.9"
  }
 },
 "nbformat": 4,
 "nbformat_minor": 2
}
