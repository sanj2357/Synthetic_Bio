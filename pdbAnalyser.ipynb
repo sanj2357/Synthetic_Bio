{
 "cells": [
  {
   "cell_type": "code",
   "execution_count": 1,
   "metadata": {},
   "outputs": [
    {
     "name": "stdout",
     "output_type": "stream",
     "text": [
      "Collecting biopython\n",
      "  Downloading biopython-1.85-cp311-cp311-macosx_10_9_x86_64.whl.metadata (13 kB)\n",
      "Requirement already satisfied: numpy in /Users/sanjeev/opt/anaconda3/envs/py311/lib/python3.11/site-packages (from biopython) (1.24.3)\n",
      "Downloading biopython-1.85-cp311-cp311-macosx_10_9_x86_64.whl (2.8 MB)\n",
      "\u001b[2K   \u001b[90m━━━━━━━━━━━━━━━━━━━━━━━━━━━━━━━━━━━━━━━━\u001b[0m \u001b[32m2.8/2.8 MB\u001b[0m \u001b[31m2.1 MB/s\u001b[0m eta \u001b[36m0:00:00\u001b[0ma \u001b[36m0:00:01\u001b[0mm\n",
      "\u001b[?25hInstalling collected packages: biopython\n",
      "Successfully installed biopython-1.85\n",
      "Note: you may need to restart the kernel to use updated packages.\n"
     ]
    }
   ],
   "source": [
    "pip install biopython"
   ]
  },
  {
   "cell_type": "code",
   "execution_count": null,
   "metadata": {},
   "outputs": [],
   "source": [
    "from Bio import PDB\n",
    "\n",
    "# Filepath to your PDB file\n",
    "pdb_file = \"selected_prediction.pdb\"\n",
    "\n",
    "def extract_sequences(pdb_file):\n",
    "    \"\"\"\n",
    "    Extract sequences and chain information from a PDB file.\n",
    "    \"\"\"\n",
    "    parser = PDB.PDBParser(QUIET=True)\n",
    "    structure = parser.get_structure(\"protein\", pdb_file)\n",
    "    \n",
    "    chain_sequences = {}\n",
    "    for model in structure:\n",
    "        for chain in model:\n",
    "            residues = []\n",
    "            for residue in chain:\n",
    "                # Only include standard amino acids\n",
    "                if PDB.is_aa(residue, standard=True):\n",
    "                    residues.append(PDB.Polypeptide.three_to_one(residue.get_resname()))\n",
    "            chain_sequences[chain.id] = \"\".join(residues)\n",
    "    \n",
    "    return chain_sequences\n",
    "\n",
    "def print_sequences(chain_sequences):\n",
    "    \"\"\"\n",
    "    Print chain IDs and corresponding sequences.\n",
    "    \"\"\"\n",
    "    for chain_id, sequence in chain_sequences.items():\n",
    "        print(f\"Chain {chain_id}:\\n{sequence}\\nLength: {len(sequence)}\\n\")\n",
    "\n",
    "# Extract and display sequences from the PDB file\n",
    "chain_sequences = extract_sequences(pdb_file)\n",
    "print_sequences(chain_sequences)\n"
   ]
  }
 ],
 "metadata": {
  "kernelspec": {
   "display_name": "py311",
   "language": "python",
   "name": "python3"
  },
  "language_info": {
   "codemirror_mode": {
    "name": "ipython",
    "version": 3
   },
   "file_extension": ".py",
   "mimetype": "text/x-python",
   "name": "python",
   "nbconvert_exporter": "python",
   "pygments_lexer": "ipython3",
   "version": "3.11.9"
  }
 },
 "nbformat": 4,
 "nbformat_minor": 2
}
